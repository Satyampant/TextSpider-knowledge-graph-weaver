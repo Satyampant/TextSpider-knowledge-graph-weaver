{
 "cells": [
  {
   "cell_type": "code",
   "execution_count": 1,
   "id": "5ec900e0",
   "metadata": {},
   "outputs": [],
   "source": [
    "from dotenv import load_dotenv\n",
    "import os\n",
    "\n",
    "load_dotenv()\n",
    "api_key = os.getenv(\"GROQ_API_KEY\")"
   ]
  },
  {
   "cell_type": "code",
   "execution_count": 6,
   "id": "86ce6810",
   "metadata": {},
   "outputs": [],
   "source": [
    "from langchain_experimental.graph_transformers import LLMGraphTransformer\n",
    "from langchain_core.documents import Document\n",
    "from langchain_groq import ChatGroq\n",
    "\n",
    "llm = ChatGroq(model=\"llama-3.1-8b-instant\", temperature=0)\n",
    "graph_transformer = LLMGraphTransformer(llm=llm)"
   ]
  },
  {
   "cell_type": "code",
   "execution_count": 7,
   "id": "eb122efb",
   "metadata": {},
   "outputs": [],
   "source": [
    "text = \"\"\"\n",
    "The world of **One Piece** is set in the **Blue Planet**, a vast ocean planet divided by the **Red Line** (a continental strip) and the **Grand Line** (a sea perpendicular to the Red Line). The **Grand Line** is the most dangerous sea and the ultimate goal for pirates, as it contains the final island, **Laugh Tale**, where the legendary treasure **One Piece** is hidden.\n",
    "\n",
    "The story begins with the execution of the **Pirate King**, **Gol D. Roger**, who declared that his treasure, the **One Piece**, was left there, thus ushering in the **Great Pirate Era**.\n",
    "\n",
    "#### Main Protagonist and Crew\n",
    "\n",
    "The protagonist is **Monkey D. Luffy**, a young pirate whose dream is to become the next **Pirate King**. He gained the ability to stretch like rubber after accidentally eating the **Gum-Gum Fruit** (later revealed to be the Mythical Zoan **Human-Human Fruit, Model: Nika**), a type of **Devil Fruit** that grants a unique power at the cost of the user's ability to swim. His signature possession is a **Straw Hat** gifted to him by his idol, the pirate **Red-Haired Shanks** (one of the **Four Emperors**).\n",
    "\n",
    "Luffy forms the **Straw Hat Pirates** crew, recruiting members with unique skills and dreams:\n",
    "\n",
    "* **Roronoa Zoro**: Swordsman, aims to become the **World's Strongest Swordsman** (a title currently held by **Dracule Mihawk**, a former **Warlord of the Sea**).\n",
    "* **Nami**: Navigator, aims to create a complete **map of the world**.\n",
    "* **Usopp**: Sniper, aims to become a **brave warrior of the sea**.\n",
    "* **Sanji**: Chef, aims to find the **All Blue**, a mythical sea where all fish from the four oceans meet.\n",
    "* **Tony Tony Chopper**: Doctor, a reindeer who ate the **Human-Human Fruit**, aims to become a doctor who can cure any disease.\n",
    "* **Nico Robin**: Archaeologist, aims to uncover the truth of the **Void Century** and read the **Poneglyphs** (ancient, indestructible stone tablets).\n",
    "* **Franky**: Shipwright (Cyborg), built the second crew ship, the **Thousand Sunny**, aims to sail his ship around the world.\n",
    "* **Brook**: Musician (Skeleton), ate the **Revive-Revive Fruit**, aims to reunite with his friend **Laboon** the whale.\n",
    "* **Jinbe**: Helmsman, a **Fish-Man** karate master, advocates for the peaceful coexistence of humans and **Fish-Men**.\n",
    "\n",
    "The Straw Hat Pirates' first ship was the **Going Merry**.\n",
    "\n",
    "#### Key Organizations and Antagonists\n",
    "\n",
    "The main forces shaping the world are:\n",
    "\n",
    "1.  **World Government**: The authoritarian ruling body of the world, based in **Mary Geoise**. Its military arm is the **Marines**, led by the **Admirals** (e.g., **Aokiji**).\n",
    "2.  **Four Emperors (Yonko)**: Four of the most powerful pirates who rule over territories in the New World. Current or former members include **Red-Haired Shanks**, **Big Mom** (Charlotte Linlin), **Kaido**, **Marshall D. Teach (Blackbeard)**, and **Edward Newgate (Whitebeard)**.\n",
    "3.  **Warlords of the Sea (Shichibukai)**: A system of seven powerful pirates who allied with the **World Government** but were later abolished. Notable members included **Dracule Mihawk**, **Sir Crocodile**, and **Donquixote Doflamingo**.\n",
    "\n",
    "#### Major Story Arcs and Events\n",
    "\n",
    "The crew's journey is marked by several Sagas and Arcs, each introducing new allies, enemies, and world lore:\n",
    "\n",
    "* **East Blue Saga**: Crew formation. Luffy defeats local villains like **Buggy the Clown** and the **Fish-Man Arlong**.\n",
    "* **Alabasta Saga**: The Straw Hats help **Princess Vivi** save the desert kingdom of **Alabasta** from the **Warlord Sir Crocodile** and his organization **Baroque Works**. Nico Robin joins the crew.\n",
    "* **Skypiea Saga**: The crew travels to a sky island, **Skypiea**, and defeats the self-proclaimed god, **Enel**. This arc introduces the concept of **Poneglyphs** and the ancient city of **Shandora**.\n",
    "* **Water 7/Enies Lobby Saga**: The crew attempts to save **Nico Robin** from the World Government's secret organization, **CP9**, leading to a direct declaration of war on the **World Government**.\n",
    "* **Summit War Saga (Impel Down/Marineford)**: Luffy infiltrates the massive prison **Impel Down** and participates in the enormous war at **Marineford** to try and save his brother, **Portgas D. Ace**, from execution by the **Marines** and the **Warlords**. This war involves the **Whitebeard Pirates** and results in the deaths of **Ace** and **Whitebeard**.\n",
    "* **Post-War/Time Skip**: The crew trains for two years separately before reuniting at the **Sabaody Archipelago**.\n",
    "* **Fish-Man Island Saga**: The crew enters the underwater kingdom of **Fish-Man Island** and fights to promote peace between humans and **Fish-Men**. **Jinbe** is formally invited to join the crew.\n",
    "* **Dressrosa Saga**: The Straw Hats ally with **Trafalgar Law** (a member of the **Worst Generation** of rookie pirates) to take down the cruel **Warlord Donquixote Doflamingo**, who was secretly ruling the kingdom of **Dressrosa**.\n",
    "* **Whole Cake Island Saga**: Luffy leads a rescue team to the territory of the **Emperor Big Mom** to retrieve **Sanji**, uncovering secrets about Sanji's past with the **Vinsmoke Family**.\n",
    "* **Wano Country Saga**: The Straw Hats, Law, and their allies form a massive alliance to liberate the isolated country of **Wano** from the tyrannical rule of the **Emperor Kaido** and the Shogun, **Kurozumi Orochi**. This saga confirms Luffy's true **Devil Fruit** identity.\n",
    "\n",
    "The ultimate goal remains the discovery of the **One Piece** and the unraveling of the great mystery of the **Void Century**, a lost century of history suppressed by the **World Government**.\n",
    "\"\"\""
   ]
  },
  {
   "cell_type": "code",
   "execution_count": 9,
   "id": "6e0eb9a7",
   "metadata": {},
   "outputs": [],
   "source": [
    "documents = [Document(page_content=text)]\n",
    "graph_documents = await graph_transformer.aconvert_to_graph_documents(documents)"
   ]
  },
  {
   "cell_type": "code",
   "execution_count": 10,
   "id": "b4225072",
   "metadata": {},
   "outputs": [
    {
     "data": {
      "text/plain": [
       "[GraphDocument(nodes=[Node(id='One Piece', type='Series', properties={}), Node(id='Blue Planet', type='Planet', properties={}), Node(id='Red Line', type='Geographical feature', properties={}), Node(id='Grand Line', type='Geographical feature', properties={}), Node(id='Laugh Tale', type='Island', properties={}), Node(id='Pirate King', type='Title', properties={}), Node(id='Gol D. Roger', type='Person', properties={}), Node(id='Monkey D. Luffy', type='Person', properties={}), Node(id='Gum-Gum Fruit', type='Devil fruit', properties={}), Node(id='Straw Hat', type='Item', properties={}), Node(id='Red-Haired Shanks', type='Person', properties={}), Node(id='Roronoa Zoro', type='Person', properties={}), Node(id='Nami', type='Person', properties={}), Node(id='Usopp', type='Person', properties={}), Node(id='Sanji', type='Person', properties={}), Node(id='Tony Tony Chopper', type='Person', properties={}), Node(id='Nico Robin', type='Person', properties={}), Node(id='Franky', type='Person', properties={}), Node(id='Brook', type='Person', properties={}), Node(id='Jinbe', type='Person', properties={}), Node(id='World Government', type='Organization', properties={}), Node(id='Marines', type='Military unit', properties={}), Node(id='Admirals', type='Position', properties={}), Node(id='Four Emperors', type='Group', properties={}), Node(id='Warlords Of The Sea', type='Group', properties={}), Node(id='Devil Fruit', type='Category', properties={}), Node(id='Human-Human Fruit', type='Devil fruit', properties={}), Node(id='All Blue', type='Location', properties={}), Node(id='Void Century', type='Event', properties={}), Node(id='Poneglyphs', type='Category', properties={}), Node(id='Going Merry', type='Ship', properties={}), Node(id='Thousand Sunny', type='Ship', properties={}), Node(id='Impel Down', type='Location', properties={}), Node(id='Marineford', type='Location', properties={}), Node(id='Fish-Man Island', type='Location', properties={}), Node(id='Dressrosa', type='Location', properties={}), Node(id='Whole Cake Island', type='Location', properties={}), Node(id='Wano Country', type='Location', properties={}), Node(id='One Piece', type='Treasure', properties={})], relationships=[Relationship(source=Node(id='Gol D. Roger', type='Person', properties={}), target=Node(id='One Piece', type='Treasure', properties={}), type='LEFT_TREASURE', properties={}), Relationship(source=Node(id='Monkey D. Luffy', type='Person', properties={}), target=Node(id='Pirate King', type='Title', properties={}), type='ASPIRES_TO', properties={}), Relationship(source=Node(id='Monkey D. Luffy', type='Person', properties={}), target=Node(id='Gum-Gum Fruit', type='Devil fruit', properties={}), type='ATE', properties={}), Relationship(source=Node(id='Monkey D. Luffy', type='Person', properties={}), target=Node(id='Straw Hat', type='Item', properties={}), type='POSSESSES', properties={}), Relationship(source=Node(id='Monkey D. Luffy', type='Person', properties={}), target=Node(id='Red-Haired Shanks', type='Person', properties={}), type='ADMIRES', properties={}), Relationship(source=Node(id='Roronoa Zoro', type='Person', properties={}), target=Node(id=\"World'S Strongest Swordsman\", type='Title', properties={}), type='ASPIRES_TO', properties={}), Relationship(source=Node(id='Nami', type='Person', properties={}), target=Node(id='Map Of The World', type='Category', properties={}), type='AIMS_TO_CREATE', properties={}), Relationship(source=Node(id='Usopp', type='Person', properties={}), target=Node(id='Brave Warrior Of The Sea', type='Title', properties={}), type='ASPIRES_TO', properties={}), Relationship(source=Node(id='Sanji', type='Person', properties={}), target=Node(id='All Blue', type='Location', properties={}), type='AIMS_TO_FIND', properties={}), Relationship(source=Node(id='Tony Tony Chopper', type='Person', properties={}), target=Node(id='Human-Human Fruit', type='Devil fruit', properties={}), type='ATE', properties={}), Relationship(source=Node(id='Nico Robin', type='Person', properties={}), target=Node(id='Void Century', type='Event', properties={}), type='AIMS_TO_UNCOVER', properties={}), Relationship(source=Node(id='Franky', type='Person', properties={}), target=Node(id='Thousand Sunny', type='Ship', properties={}), type='BUILT', properties={}), Relationship(source=Node(id='Brook', type='Person', properties={}), target=Node(id='Revive-Revive Fruit', type='Devil fruit', properties={}), type='ATE', properties={}), Relationship(source=Node(id='Jinbe', type='Person', properties={}), target=Node(id='Fish-Man Island', type='Location', properties={}), type='ADVOCATES_FOR', properties={}), Relationship(source=Node(id='World Government', type='Organization', properties={}), target=Node(id='Marines', type='Military unit', properties={}), type='HAS_MILITARY_ARM', properties={}), Relationship(source=Node(id='World Government', type='Organization', properties={}), target=Node(id='Admirals', type='Position', properties={}), type='HAS', properties={}), Relationship(source=Node(id='Four Emperors', type='Group', properties={}), target=Node(id='Red-Haired Shanks', type='Person', properties={}), type='HAS_MEMBER', properties={}), Relationship(source=Node(id='Four Emperors', type='Group', properties={}), target=Node(id='Big Mom', type='Person', properties={}), type='HAS_MEMBER', properties={}), Relationship(source=Node(id='Four Emperors', type='Group', properties={}), target=Node(id='Kaido', type='Person', properties={}), type='HAS_MEMBER', properties={}), Relationship(source=Node(id='Four Emperors', type='Group', properties={}), target=Node(id='Marshall D. Teach', type='Person', properties={}), type='HAS_MEMBER', properties={}), Relationship(source=Node(id='Four Emperors', type='Group', properties={}), target=Node(id='Edward Newgate', type='Person', properties={}), type='HAS_MEMBER', properties={}), Relationship(source=Node(id='Warlords Of The Sea', type='Group', properties={}), target=Node(id='Dracule Mihawk', type='Person', properties={}), type='HAS_MEMBER', properties={}), Relationship(source=Node(id='Warlords Of The Sea', type='Group', properties={}), target=Node(id='Sir Crocodile', type='Person', properties={}), type='HAS_MEMBER', properties={}), Relationship(source=Node(id='Warlords Of The Sea', type='Group', properties={}), target=Node(id='Donquixote Doflamingo', type='Person', properties={}), type='HAS_MEMBER', properties={}), Relationship(source=Node(id='Monkey D. Luffy', type='Person', properties={}), target=Node(id='Laugh Tale', type='Island', properties={}), type='GOAL_IS_TO_REACH', properties={}), Relationship(source=Node(id='Monkey D. Luffy', type='Person', properties={}), target=Node(id='One Piece', type='Treasure', properties={}), type='GOAL_IS_TO_FIND', properties={}), Relationship(source=Node(id='Monkey D. Luffy', type='Person', properties={}), target=Node(id='Void Century', type='Event', properties={}), type='GOAL_IS_TO_UNCOVER', properties={})], source=Document(metadata={}, page_content=\"\\nThe world of **One Piece** is set in the **Blue Planet**, a vast ocean planet divided by the **Red Line** (a continental strip) and the **Grand Line** (a sea perpendicular to the Red Line). The **Grand Line** is the most dangerous sea and the ultimate goal for pirates, as it contains the final island, **Laugh Tale**, where the legendary treasure **One Piece** is hidden.\\n\\nThe story begins with the execution of the **Pirate King**, **Gol D. Roger**, who declared that his treasure, the **One Piece**, was left there, thus ushering in the **Great Pirate Era**.\\n\\n#### Main Protagonist and Crew\\n\\nThe protagonist is **Monkey D. Luffy**, a young pirate whose dream is to become the next **Pirate King**. He gained the ability to stretch like rubber after accidentally eating the **Gum-Gum Fruit** (later revealed to be the Mythical Zoan **Human-Human Fruit, Model: Nika**), a type of **Devil Fruit** that grants a unique power at the cost of the user's ability to swim. His signature possession is a **Straw Hat** gifted to him by his idol, the pirate **Red-Haired Shanks** (one of the **Four Emperors**).\\n\\nLuffy forms the **Straw Hat Pirates** crew, recruiting members with unique skills and dreams:\\n\\n* **Roronoa Zoro**: Swordsman, aims to become the **World's Strongest Swordsman** (a title currently held by **Dracule Mihawk**, a former **Warlord of the Sea**).\\n* **Nami**: Navigator, aims to create a complete **map of the world**.\\n* **Usopp**: Sniper, aims to become a **brave warrior of the sea**.\\n* **Sanji**: Chef, aims to find the **All Blue**, a mythical sea where all fish from the four oceans meet.\\n* **Tony Tony Chopper**: Doctor, a reindeer who ate the **Human-Human Fruit**, aims to become a doctor who can cure any disease.\\n* **Nico Robin**: Archaeologist, aims to uncover the truth of the **Void Century** and read the **Poneglyphs** (ancient, indestructible stone tablets).\\n* **Franky**: Shipwright (Cyborg), built the second crew ship, the **Thousand Sunny**, aims to sail his ship around the world.\\n* **Brook**: Musician (Skeleton), ate the **Revive-Revive Fruit**, aims to reunite with his friend **Laboon** the whale.\\n* **Jinbe**: Helmsman, a **Fish-Man** karate master, advocates for the peaceful coexistence of humans and **Fish-Men**.\\n\\nThe Straw Hat Pirates' first ship was the **Going Merry**.\\n\\n#### Key Organizations and Antagonists\\n\\nThe main forces shaping the world are:\\n\\n1.  **World Government**: The authoritarian ruling body of the world, based in **Mary Geoise**. Its military arm is the **Marines**, led by the **Admirals** (e.g., **Aokiji**).\\n2.  **Four Emperors (Yonko)**: Four of the most powerful pirates who rule over territories in the New World. Current or former members include **Red-Haired Shanks**, **Big Mom** (Charlotte Linlin), **Kaido**, **Marshall D. Teach (Blackbeard)**, and **Edward Newgate (Whitebeard)**.\\n3.  **Warlords of the Sea (Shichibukai)**: A system of seven powerful pirates who allied with the **World Government** but were later abolished. Notable members included **Dracule Mihawk**, **Sir Crocodile**, and **Donquixote Doflamingo**.\\n\\n#### Major Story Arcs and Events\\n\\nThe crew's journey is marked by several Sagas and Arcs, each introducing new allies, enemies, and world lore:\\n\\n* **East Blue Saga**: Crew formation. Luffy defeats local villains like **Buggy the Clown** and the **Fish-Man Arlong**.\\n* **Alabasta Saga**: The Straw Hats help **Princess Vivi** save the desert kingdom of **Alabasta** from the **Warlord Sir Crocodile** and his organization **Baroque Works**. Nico Robin joins the crew.\\n* **Skypiea Saga**: The crew travels to a sky island, **Skypiea**, and defeats the self-proclaimed god, **Enel**. This arc introduces the concept of **Poneglyphs** and the ancient city of **Shandora**.\\n* **Water 7/Enies Lobby Saga**: The crew attempts to save **Nico Robin** from the World Government's secret organization, **CP9**, leading to a direct declaration of war on the **World Government**.\\n* **Summit War Saga (Impel Down/Marineford)**: Luffy infiltrates the massive prison **Impel Down** and participates in the enormous war at **Marineford** to try and save his brother, **Portgas D. Ace**, from execution by the **Marines** and the **Warlords**. This war involves the **Whitebeard Pirates** and results in the deaths of **Ace** and **Whitebeard**.\\n* **Post-War/Time Skip**: The crew trains for two years separately before reuniting at the **Sabaody Archipelago**.\\n* **Fish-Man Island Saga**: The crew enters the underwater kingdom of **Fish-Man Island** and fights to promote peace between humans and **Fish-Men**. **Jinbe** is formally invited to join the crew.\\n* **Dressrosa Saga**: The Straw Hats ally with **Trafalgar Law** (a member of the **Worst Generation** of rookie pirates) to take down the cruel **Warlord Donquixote Doflamingo**, who was secretly ruling the kingdom of **Dressrosa**.\\n* **Whole Cake Island Saga**: Luffy leads a rescue team to the territory of the **Emperor Big Mom** to retrieve **Sanji**, uncovering secrets about Sanji's past with the **Vinsmoke Family**.\\n* **Wano Country Saga**: The Straw Hats, Law, and their allies form a massive alliance to liberate the isolated country of **Wano** from the tyrannical rule of the **Emperor Kaido** and the Shogun, **Kurozumi Orochi**. This saga confirms Luffy's true **Devil Fruit** identity.\\n\\nThe ultimate goal remains the discovery of the **One Piece** and the unraveling of the great mystery of the **Void Century**, a lost century of history suppressed by the **World Government**.\\n\"))]"
      ]
     },
     "execution_count": 10,
     "metadata": {},
     "output_type": "execute_result"
    }
   ],
   "source": [
    "graph_documents"
   ]
  },
  {
   "cell_type": "code",
   "execution_count": 11,
   "id": "ed4347d5",
   "metadata": {},
   "outputs": [
    {
     "name": "stdout",
     "output_type": "stream",
     "text": [
      "Nodes: [Node(id='One Piece', type='Series', properties={}), Node(id='Blue Planet', type='Planet', properties={}), Node(id='Red Line', type='Geographical feature', properties={}), Node(id='Grand Line', type='Geographical feature', properties={}), Node(id='Laugh Tale', type='Island', properties={}), Node(id='Pirate King', type='Title', properties={}), Node(id='Gol D. Roger', type='Person', properties={}), Node(id='Monkey D. Luffy', type='Person', properties={}), Node(id='Gum-Gum Fruit', type='Devil fruit', properties={}), Node(id='Straw Hat', type='Item', properties={}), Node(id='Red-Haired Shanks', type='Person', properties={}), Node(id='Roronoa Zoro', type='Person', properties={}), Node(id='Nami', type='Person', properties={}), Node(id='Usopp', type='Person', properties={}), Node(id='Sanji', type='Person', properties={}), Node(id='Tony Tony Chopper', type='Person', properties={}), Node(id='Nico Robin', type='Person', properties={}), Node(id='Franky', type='Person', properties={}), Node(id='Brook', type='Person', properties={}), Node(id='Jinbe', type='Person', properties={}), Node(id='World Government', type='Organization', properties={}), Node(id='Marines', type='Military unit', properties={}), Node(id='Admirals', type='Position', properties={}), Node(id='Four Emperors', type='Group', properties={}), Node(id='Warlords Of The Sea', type='Group', properties={}), Node(id='Devil Fruit', type='Category', properties={}), Node(id='Human-Human Fruit', type='Devil fruit', properties={}), Node(id='All Blue', type='Location', properties={}), Node(id='Void Century', type='Event', properties={}), Node(id='Poneglyphs', type='Category', properties={}), Node(id='Going Merry', type='Ship', properties={}), Node(id='Thousand Sunny', type='Ship', properties={}), Node(id='Impel Down', type='Location', properties={}), Node(id='Marineford', type='Location', properties={}), Node(id='Fish-Man Island', type='Location', properties={}), Node(id='Dressrosa', type='Location', properties={}), Node(id='Whole Cake Island', type='Location', properties={}), Node(id='Wano Country', type='Location', properties={}), Node(id='One Piece', type='Treasure', properties={})]\n",
      "Relationships: [Relationship(source=Node(id='Gol D. Roger', type='Person', properties={}), target=Node(id='One Piece', type='Treasure', properties={}), type='LEFT_TREASURE', properties={}), Relationship(source=Node(id='Monkey D. Luffy', type='Person', properties={}), target=Node(id='Pirate King', type='Title', properties={}), type='ASPIRES_TO', properties={}), Relationship(source=Node(id='Monkey D. Luffy', type='Person', properties={}), target=Node(id='Gum-Gum Fruit', type='Devil fruit', properties={}), type='ATE', properties={}), Relationship(source=Node(id='Monkey D. Luffy', type='Person', properties={}), target=Node(id='Straw Hat', type='Item', properties={}), type='POSSESSES', properties={}), Relationship(source=Node(id='Monkey D. Luffy', type='Person', properties={}), target=Node(id='Red-Haired Shanks', type='Person', properties={}), type='ADMIRES', properties={}), Relationship(source=Node(id='Roronoa Zoro', type='Person', properties={}), target=Node(id=\"World'S Strongest Swordsman\", type='Title', properties={}), type='ASPIRES_TO', properties={}), Relationship(source=Node(id='Nami', type='Person', properties={}), target=Node(id='Map Of The World', type='Category', properties={}), type='AIMS_TO_CREATE', properties={}), Relationship(source=Node(id='Usopp', type='Person', properties={}), target=Node(id='Brave Warrior Of The Sea', type='Title', properties={}), type='ASPIRES_TO', properties={}), Relationship(source=Node(id='Sanji', type='Person', properties={}), target=Node(id='All Blue', type='Location', properties={}), type='AIMS_TO_FIND', properties={}), Relationship(source=Node(id='Tony Tony Chopper', type='Person', properties={}), target=Node(id='Human-Human Fruit', type='Devil fruit', properties={}), type='ATE', properties={}), Relationship(source=Node(id='Nico Robin', type='Person', properties={}), target=Node(id='Void Century', type='Event', properties={}), type='AIMS_TO_UNCOVER', properties={}), Relationship(source=Node(id='Franky', type='Person', properties={}), target=Node(id='Thousand Sunny', type='Ship', properties={}), type='BUILT', properties={}), Relationship(source=Node(id='Brook', type='Person', properties={}), target=Node(id='Revive-Revive Fruit', type='Devil fruit', properties={}), type='ATE', properties={}), Relationship(source=Node(id='Jinbe', type='Person', properties={}), target=Node(id='Fish-Man Island', type='Location', properties={}), type='ADVOCATES_FOR', properties={}), Relationship(source=Node(id='World Government', type='Organization', properties={}), target=Node(id='Marines', type='Military unit', properties={}), type='HAS_MILITARY_ARM', properties={}), Relationship(source=Node(id='World Government', type='Organization', properties={}), target=Node(id='Admirals', type='Position', properties={}), type='HAS', properties={}), Relationship(source=Node(id='Four Emperors', type='Group', properties={}), target=Node(id='Red-Haired Shanks', type='Person', properties={}), type='HAS_MEMBER', properties={}), Relationship(source=Node(id='Four Emperors', type='Group', properties={}), target=Node(id='Big Mom', type='Person', properties={}), type='HAS_MEMBER', properties={}), Relationship(source=Node(id='Four Emperors', type='Group', properties={}), target=Node(id='Kaido', type='Person', properties={}), type='HAS_MEMBER', properties={}), Relationship(source=Node(id='Four Emperors', type='Group', properties={}), target=Node(id='Marshall D. Teach', type='Person', properties={}), type='HAS_MEMBER', properties={}), Relationship(source=Node(id='Four Emperors', type='Group', properties={}), target=Node(id='Edward Newgate', type='Person', properties={}), type='HAS_MEMBER', properties={}), Relationship(source=Node(id='Warlords Of The Sea', type='Group', properties={}), target=Node(id='Dracule Mihawk', type='Person', properties={}), type='HAS_MEMBER', properties={}), Relationship(source=Node(id='Warlords Of The Sea', type='Group', properties={}), target=Node(id='Sir Crocodile', type='Person', properties={}), type='HAS_MEMBER', properties={}), Relationship(source=Node(id='Warlords Of The Sea', type='Group', properties={}), target=Node(id='Donquixote Doflamingo', type='Person', properties={}), type='HAS_MEMBER', properties={}), Relationship(source=Node(id='Monkey D. Luffy', type='Person', properties={}), target=Node(id='Laugh Tale', type='Island', properties={}), type='GOAL_IS_TO_REACH', properties={}), Relationship(source=Node(id='Monkey D. Luffy', type='Person', properties={}), target=Node(id='One Piece', type='Treasure', properties={}), type='GOAL_IS_TO_FIND', properties={}), Relationship(source=Node(id='Monkey D. Luffy', type='Person', properties={}), target=Node(id='Void Century', type='Event', properties={}), type='GOAL_IS_TO_UNCOVER', properties={})]\n"
     ]
    }
   ],
   "source": [
    "print(f\"Nodes: {graph_documents[0].nodes}\")\n",
    "print(f\"Relationships: {graph_documents[0].relationships}\")"
   ]
  },
  {
   "cell_type": "code",
   "execution_count": 12,
   "id": "c489168d",
   "metadata": {},
   "outputs": [
    {
     "name": "stdout",
     "output_type": "stream",
     "text": [
      "Graph saved to c:\\Users\\pheno\\Gen AI Projects\\TextSpider-knowledge-graph-weaver\\knowledge_graph.html\n"
     ]
    }
   ],
   "source": [
    "from pyvis.network import Network\n",
    "\n",
    "def visualize_graph(graph_documents):\n",
    "\n",
    "    # Create network\n",
    "    net = Network(height=\"1200px\", width=\"100%\", directed=True,\n",
    "                      notebook=False, bgcolor=\"#222222\", font_color=\"white\")\n",
    "    \n",
    "    nodes = graph_documents[0].nodes\n",
    "    relationships = graph_documents[0].relationships\n",
    "\n",
    "    # Build lookup for valid nodes\n",
    "    node_dict = {node.id: node for node in nodes}\n",
    "    \n",
    "    # Filter out invalid edges and collect valid node IDs\n",
    "    valid_edges = []\n",
    "    valid_node_ids = set()\n",
    "    for rel in relationships:\n",
    "        if rel.source.id in node_dict and rel.target.id in node_dict:\n",
    "            valid_edges.append(rel)\n",
    "            valid_node_ids.update([rel.source.id, rel.target.id])\n",
    "\n",
    "\n",
    "    # Track which nodes are part of any relationship\n",
    "    connected_node_ids = set()\n",
    "    for rel in relationships:\n",
    "        connected_node_ids.add(rel.source.id)\n",
    "        connected_node_ids.add(rel.target.id)\n",
    "\n",
    "    # Add valid nodes\n",
    "    for node_id in valid_node_ids:\n",
    "        node = node_dict[node_id]\n",
    "        try:\n",
    "            net.add_node(node.id, label=node.id, title=node.type, group=node.type)\n",
    "        except:\n",
    "            continue  # skip if error\n",
    "\n",
    "    # Add valid edges\n",
    "    for rel in valid_edges:\n",
    "        try:\n",
    "            net.add_edge(rel.source.id, rel.target.id, label=rel.type.lower())\n",
    "        except:\n",
    "            continue  # skip if error\n",
    "\n",
    "    # Configure physics\n",
    "    net.set_options(\"\"\"\n",
    "            {\n",
    "                \"physics\": {\n",
    "                    \"forceAtlas2Based\": {\n",
    "                        \"gravitationalConstant\": -100,\n",
    "                        \"centralGravity\": 0.01,\n",
    "                        \"springLength\": 200,\n",
    "                        \"springConstant\": 0.08\n",
    "                    },\n",
    "                    \"minVelocity\": 0.75,\n",
    "                    \"solver\": \"forceAtlas2Based\"\n",
    "                }\n",
    "            }\n",
    "            \"\"\")\n",
    "        \n",
    "    output_file = \"knowledge_graph.html\"\n",
    "    net.save_graph(output_file)\n",
    "    print(f\"Graph saved to {os.path.abspath(output_file)}\")\n",
    "\n",
    "    # Try to open in browser\n",
    "    try:\n",
    "        import webbrowser\n",
    "        webbrowser.open(f\"file://{os.path.abspath(output_file)}\")\n",
    "    except:\n",
    "        print(\"Could not open browser automatically\")\n",
    "        \n",
    "# Run the function\n",
    "visualize_graph(graph_documents)"
   ]
  },
  {
   "cell_type": "code",
   "execution_count": null,
   "id": "e7dd3952",
   "metadata": {},
   "outputs": [],
   "source": []
  }
 ],
 "metadata": {
  "kernelspec": {
   "display_name": "TextSpider-knowledge-graph-weaver",
   "language": "python",
   "name": "python3"
  },
  "language_info": {
   "codemirror_mode": {
    "name": "ipython",
    "version": 3
   },
   "file_extension": ".py",
   "mimetype": "text/x-python",
   "name": "python",
   "nbconvert_exporter": "python",
   "pygments_lexer": "ipython3",
   "version": "3.12.8"
  }
 },
 "nbformat": 4,
 "nbformat_minor": 5
}
